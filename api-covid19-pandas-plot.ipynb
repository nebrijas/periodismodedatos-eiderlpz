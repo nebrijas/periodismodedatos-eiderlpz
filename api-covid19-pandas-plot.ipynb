{
 "cells": [
  {
   "cell_type": "markdown",
   "id": "741bd0fe",
   "metadata": {},
   "source": [
    "# Uso de Api de Covid19 con Pandas  "
   ]
  },
  {
   "cell_type": "markdown",
   "id": "26b300e9",
   "metadata": {},
   "source": [
    "En esta actividad trabajaremos con esta api: [covid19api](https://api.covid19api.com/countries)"
   ]
  },
  {
   "cell_type": "markdown",
   "id": "f9a67c2f",
   "metadata": {},
   "source": [
    "## Instalación Pandas"
   ]
  },
  {
   "cell_type": "markdown",
   "id": "ef00fcce",
   "metadata": {},
   "source": [
    "Primero, debemos instalar la librería que vayamos a usar. En este caso trabajaremos con una librería Pandas que sirve para trabajar con datos. A pesar de que Anaconda tenga su propio gestor de paquete y se use `condas` para añadir la librería, vamos a utilizar el estandar. Es decir, `pip`. "
   ]
  },
  {
   "cell_type": "code",
   "execution_count": 1,
   "id": "61d5d01f",
   "metadata": {},
   "outputs": [
    {
     "name": "stdout",
     "output_type": "stream",
     "text": [
      "Requirement already satisfied: pandas in /Users/eiderlpz/opt/anaconda3/lib/python3.9/site-packages (1.3.4)\n",
      "Requirement already satisfied: python-dateutil>=2.7.3 in /Users/eiderlpz/opt/anaconda3/lib/python3.9/site-packages (from pandas) (2.8.2)\n",
      "Requirement already satisfied: pytz>=2017.3 in /Users/eiderlpz/opt/anaconda3/lib/python3.9/site-packages (from pandas) (2021.3)\n",
      "Requirement already satisfied: numpy>=1.17.3 in /Users/eiderlpz/opt/anaconda3/lib/python3.9/site-packages (from pandas) (1.20.3)\n",
      "Requirement already satisfied: six>=1.5 in /Users/eiderlpz/opt/anaconda3/lib/python3.9/site-packages (from python-dateutil>=2.7.3->pandas) (1.16.0)\n"
     ]
    }
   ],
   "source": [
    "!pip install pandas"
   ]
  },
  {
   "cell_type": "markdown",
   "id": "b5fce9a5",
   "metadata": {},
   "source": [
    "## Configuración"
   ]
  },
  {
   "cell_type": "markdown",
   "id": "afe9444a",
   "metadata": {},
   "source": [
    "Para configurar pandas debemos añadir la siguiente configuración. De esta manera, cada vez que llame a pandas le llamaré como `pd`. Añadimos pd porque es la manera común de realizarlo, pero en su lugar sería posible añadir cualquier palabra. "
   ]
  },
  {
   "cell_type": "code",
   "execution_count": 2,
   "id": "cb5f99c1",
   "metadata": {},
   "outputs": [],
   "source": [
    "import pandas as pd"
   ]
  },
  {
   "cell_type": "markdown",
   "id": "eb15b2c6",
   "metadata": {},
   "source": [
    "## Variables "
   ]
  },
  {
   "cell_type": "markdown",
   "id": "9dd2a94f",
   "metadata": {},
   "source": [
    "A continuación, añadiremos la variable. En este caso es la url en la que estan todos los países. Como podemos observar funciona adecuadamente, ya que al añadir `url`nos la devuelve. "
   ]
  },
  {
   "cell_type": "code",
   "execution_count": 3,
   "id": "045eb385",
   "metadata": {},
   "outputs": [
    {
     "data": {
      "text/plain": [
       "'https://api.covid19api.com/countries'"
      ]
     },
     "execution_count": 3,
     "metadata": {},
     "output_type": "execute_result"
    }
   ],
   "source": [
    "url = 'https://api.covid19api.com/countries'\n",
    "url\n"
   ]
  },
  {
   "cell_type": "markdown",
   "id": "a33b0d2d",
   "metadata": {},
   "source": [
    "## Creación de *Dataframe* \n",
    "Como vamos a trabajar con tablas, lo siguiente que haremos será crear el `dataframe`. Así, traeremos los datos de la api a una tabla. Utilizamos la función `read_jason` de *Pandas* para leer los datos en *JSON* de la *API*, puesto que tal y como se puede leer en la web `covid19api.com` API con la que estamos trabajando devuelve los datos en JSON. "
   ]
  },
  {
   "cell_type": "code",
   "execution_count": 4,
   "id": "13331a9f",
   "metadata": {},
   "outputs": [],
   "source": [
    "df = pd.read_json (url)"
   ]
  },
  {
   "cell_type": "markdown",
   "id": "c35043ef",
   "metadata": {},
   "source": [
    "A continuación, utilizaremos unas funciones clasicas para trabajar con los datos. Analizaremos la cabecera, la cola y la descripción. Podemos añadir dentro del parentesis el número de filas que queremos visualizar en cada función que le pedimos. Así, obtendremos las cinco primeras filas, las últimas y la descripción de los datos como por ejemplo la cantidad de países y cuál es el que se encuentra en primera fila."
   ]
  },
  {
   "cell_type": "code",
   "execution_count": 5,
   "id": "e8a32bd3",
   "metadata": {},
   "outputs": [
    {
     "data": {
      "text/html": [
       "<div>\n",
       "<style scoped>\n",
       "    .dataframe tbody tr th:only-of-type {\n",
       "        vertical-align: middle;\n",
       "    }\n",
       "\n",
       "    .dataframe tbody tr th {\n",
       "        vertical-align: top;\n",
       "    }\n",
       "\n",
       "    .dataframe thead th {\n",
       "        text-align: right;\n",
       "    }\n",
       "</style>\n",
       "<table border=\"1\" class=\"dataframe\">\n",
       "  <thead>\n",
       "    <tr style=\"text-align: right;\">\n",
       "      <th></th>\n",
       "      <th>Country</th>\n",
       "      <th>Slug</th>\n",
       "      <th>ISO2</th>\n",
       "    </tr>\n",
       "  </thead>\n",
       "  <tbody>\n",
       "    <tr>\n",
       "      <th>0</th>\n",
       "      <td>Honduras</td>\n",
       "      <td>honduras</td>\n",
       "      <td>HN</td>\n",
       "    </tr>\n",
       "    <tr>\n",
       "      <th>1</th>\n",
       "      <td>Nicaragua</td>\n",
       "      <td>nicaragua</td>\n",
       "      <td>NI</td>\n",
       "    </tr>\n",
       "    <tr>\n",
       "      <th>2</th>\n",
       "      <td>Tunisia</td>\n",
       "      <td>tunisia</td>\n",
       "      <td>TN</td>\n",
       "    </tr>\n",
       "    <tr>\n",
       "      <th>3</th>\n",
       "      <td>Gibraltar</td>\n",
       "      <td>gibraltar</td>\n",
       "      <td>GI</td>\n",
       "    </tr>\n",
       "    <tr>\n",
       "      <th>4</th>\n",
       "      <td>South Georgia and the South Sandwich Islands</td>\n",
       "      <td>south-georgia-and-the-south-sandwich-islands</td>\n",
       "      <td>GS</td>\n",
       "    </tr>\n",
       "  </tbody>\n",
       "</table>\n",
       "</div>"
      ],
      "text/plain": [
       "                                        Country  \\\n",
       "0                                      Honduras   \n",
       "1                                     Nicaragua   \n",
       "2                                       Tunisia   \n",
       "3                                     Gibraltar   \n",
       "4  South Georgia and the South Sandwich Islands   \n",
       "\n",
       "                                           Slug ISO2  \n",
       "0                                      honduras   HN  \n",
       "1                                     nicaragua   NI  \n",
       "2                                       tunisia   TN  \n",
       "3                                     gibraltar   GI  \n",
       "4  south-georgia-and-the-south-sandwich-islands   GS  "
      ]
     },
     "execution_count": 5,
     "metadata": {},
     "output_type": "execute_result"
    }
   ],
   "source": [
    "df.head(5)"
   ]
  },
  {
   "cell_type": "code",
   "execution_count": 6,
   "id": "f1f65691",
   "metadata": {},
   "outputs": [
    {
     "data": {
      "text/html": [
       "<div>\n",
       "<style scoped>\n",
       "    .dataframe tbody tr th:only-of-type {\n",
       "        vertical-align: middle;\n",
       "    }\n",
       "\n",
       "    .dataframe tbody tr th {\n",
       "        vertical-align: top;\n",
       "    }\n",
       "\n",
       "    .dataframe thead th {\n",
       "        text-align: right;\n",
       "    }\n",
       "</style>\n",
       "<table border=\"1\" class=\"dataframe\">\n",
       "  <thead>\n",
       "    <tr style=\"text-align: right;\">\n",
       "      <th></th>\n",
       "      <th>Country</th>\n",
       "      <th>Slug</th>\n",
       "      <th>ISO2</th>\n",
       "    </tr>\n",
       "  </thead>\n",
       "  <tbody>\n",
       "    <tr>\n",
       "      <th>243</th>\n",
       "      <td>Holy See (Vatican City State)</td>\n",
       "      <td>holy-see-vatican-city-state</td>\n",
       "      <td>VA</td>\n",
       "    </tr>\n",
       "    <tr>\n",
       "      <th>244</th>\n",
       "      <td>Lesotho</td>\n",
       "      <td>lesotho</td>\n",
       "      <td>LS</td>\n",
       "    </tr>\n",
       "    <tr>\n",
       "      <th>245</th>\n",
       "      <td>Norfolk Island</td>\n",
       "      <td>norfolk-island</td>\n",
       "      <td>NF</td>\n",
       "    </tr>\n",
       "    <tr>\n",
       "      <th>246</th>\n",
       "      <td>Palau</td>\n",
       "      <td>palau</td>\n",
       "      <td>PW</td>\n",
       "    </tr>\n",
       "    <tr>\n",
       "      <th>247</th>\n",
       "      <td>Wallis and Futuna Islands</td>\n",
       "      <td>wallis-and-futuna-islands</td>\n",
       "      <td>WF</td>\n",
       "    </tr>\n",
       "  </tbody>\n",
       "</table>\n",
       "</div>"
      ],
      "text/plain": [
       "                           Country                         Slug ISO2\n",
       "243  Holy See (Vatican City State)  holy-see-vatican-city-state   VA\n",
       "244                        Lesotho                      lesotho   LS\n",
       "245                 Norfolk Island               norfolk-island   NF\n",
       "246                          Palau                        palau   PW\n",
       "247      Wallis and Futuna Islands    wallis-and-futuna-islands   WF"
      ]
     },
     "execution_count": 6,
     "metadata": {},
     "output_type": "execute_result"
    }
   ],
   "source": [
    "df.tail ()"
   ]
  },
  {
   "cell_type": "code",
   "execution_count": 7,
   "id": "212349a8",
   "metadata": {},
   "outputs": [
    {
     "data": {
      "text/html": [
       "<div>\n",
       "<style scoped>\n",
       "    .dataframe tbody tr th:only-of-type {\n",
       "        vertical-align: middle;\n",
       "    }\n",
       "\n",
       "    .dataframe tbody tr th {\n",
       "        vertical-align: top;\n",
       "    }\n",
       "\n",
       "    .dataframe thead th {\n",
       "        text-align: right;\n",
       "    }\n",
       "</style>\n",
       "<table border=\"1\" class=\"dataframe\">\n",
       "  <thead>\n",
       "    <tr style=\"text-align: right;\">\n",
       "      <th></th>\n",
       "      <th>Country</th>\n",
       "      <th>Slug</th>\n",
       "      <th>ISO2</th>\n",
       "    </tr>\n",
       "  </thead>\n",
       "  <tbody>\n",
       "    <tr>\n",
       "      <th>count</th>\n",
       "      <td>248</td>\n",
       "      <td>248</td>\n",
       "      <td>248</td>\n",
       "    </tr>\n",
       "    <tr>\n",
       "      <th>unique</th>\n",
       "      <td>248</td>\n",
       "      <td>248</td>\n",
       "      <td>248</td>\n",
       "    </tr>\n",
       "    <tr>\n",
       "      <th>top</th>\n",
       "      <td>Honduras</td>\n",
       "      <td>honduras</td>\n",
       "      <td>HN</td>\n",
       "    </tr>\n",
       "    <tr>\n",
       "      <th>freq</th>\n",
       "      <td>1</td>\n",
       "      <td>1</td>\n",
       "      <td>1</td>\n",
       "    </tr>\n",
       "  </tbody>\n",
       "</table>\n",
       "</div>"
      ],
      "text/plain": [
       "         Country      Slug ISO2\n",
       "count        248       248  248\n",
       "unique       248       248  248\n",
       "top     Honduras  honduras   HN\n",
       "freq           1         1    1"
      ]
     },
     "execution_count": 7,
     "metadata": {},
     "output_type": "execute_result"
    }
   ],
   "source": [
    "df.describe ()"
   ]
  },
  {
   "cell_type": "markdown",
   "id": "33cfbc7b",
   "metadata": {},
   "source": [
    "Con el `dataframe` podemos obtener un resumen de la información de la tabla: que tiene 248 entradas, 3 columnas con 3 tipos de objetos... así nos aseguramos de que las celdas no esten vacías. "
   ]
  },
  {
   "cell_type": "code",
   "execution_count": 8,
   "id": "ce176cfa",
   "metadata": {},
   "outputs": [
    {
     "name": "stdout",
     "output_type": "stream",
     "text": [
      "<class 'pandas.core.frame.DataFrame'>\n",
      "RangeIndex: 248 entries, 0 to 247\n",
      "Data columns (total 3 columns):\n",
      " #   Column   Non-Null Count  Dtype \n",
      "---  ------   --------------  ----- \n",
      " 0   Country  248 non-null    object\n",
      " 1   Slug     248 non-null    object\n",
      " 2   ISO2     248 non-null    object\n",
      "dtypes: object(3)\n",
      "memory usage: 5.9+ KB\n"
     ]
    }
   ],
   "source": [
    "df.info()"
   ]
  },
  {
   "cell_type": "markdown",
   "id": "c7a9cbbf",
   "metadata": {},
   "source": [
    "Como lo que tenemos es una lista con diferentes columnas, mediante los corchetes podemos pedirle que nos saque tan solo una de las columnas. Así, nos devuelve un extracto con los primeros y los últimos valores de esa columna."
   ]
  },
  {
   "cell_type": "code",
   "execution_count": 9,
   "id": "6a82c249",
   "metadata": {},
   "outputs": [
    {
     "data": {
      "text/plain": [
       "0                                          Honduras\n",
       "1                                         Nicaragua\n",
       "2                                           Tunisia\n",
       "3                                         Gibraltar\n",
       "4      South Georgia and the South Sandwich Islands\n",
       "                           ...                     \n",
       "243                   Holy See (Vatican City State)\n",
       "244                                         Lesotho\n",
       "245                                  Norfolk Island\n",
       "246                                           Palau\n",
       "247                       Wallis and Futuna Islands\n",
       "Name: Country, Length: 248, dtype: object"
      ]
     },
     "execution_count": 9,
     "metadata": {},
     "output_type": "execute_result"
    }
   ],
   "source": [
    "df['Country']"
   ]
  },
  {
   "cell_type": "markdown",
   "id": "32221e3a",
   "metadata": {},
   "source": [
    "También podemos pedirle un valor exacto añadiendo el índice entre corchetes."
   ]
  },
  {
   "cell_type": "code",
   "execution_count": 10,
   "id": "29f3c67d",
   "metadata": {},
   "outputs": [
    {
     "data": {
      "text/plain": [
       "'Bangladesh'"
      ]
     },
     "execution_count": 10,
     "metadata": {},
     "output_type": "execute_result"
    }
   ],
   "source": [
    "df['Country'] [200]"
   ]
  },
  {
   "cell_type": "markdown",
   "id": "b9ac55b8",
   "metadata": {},
   "source": [
    "## Tiempo real España"
   ]
  },
  {
   "cell_type": "markdown",
   "id": "14765d8b",
   "metadata": {},
   "source": [
    "Para consultal el tiempo real lo primero que haremos será añadir la *URL*. Para diferenciarla de la *URL* anterior le llamaremos `url_live`. Podríamos llamarla `urlLive`, pero NO `url-live`, debido a que es un código reservado de Python. Despuès crearemos el `dataframe`. Lo llamaremos `df_es`"
   ]
  },
  {
   "cell_type": "code",
   "execution_count": 11,
   "id": "fe4a16aa",
   "metadata": {},
   "outputs": [
    {
     "data": {
      "text/html": [
       "<div>\n",
       "<style scoped>\n",
       "    .dataframe tbody tr th:only-of-type {\n",
       "        vertical-align: middle;\n",
       "    }\n",
       "\n",
       "    .dataframe tbody tr th {\n",
       "        vertical-align: top;\n",
       "    }\n",
       "\n",
       "    .dataframe thead th {\n",
       "        text-align: right;\n",
       "    }\n",
       "</style>\n",
       "<table border=\"1\" class=\"dataframe\">\n",
       "  <thead>\n",
       "    <tr style=\"text-align: right;\">\n",
       "      <th></th>\n",
       "      <th>Country</th>\n",
       "      <th>CountryCode</th>\n",
       "      <th>Province</th>\n",
       "      <th>City</th>\n",
       "      <th>CityCode</th>\n",
       "      <th>Lat</th>\n",
       "      <th>Lon</th>\n",
       "      <th>Cases</th>\n",
       "      <th>Status</th>\n",
       "      <th>Date</th>\n",
       "    </tr>\n",
       "  </thead>\n",
       "  <tbody>\n",
       "    <tr>\n",
       "      <th>0</th>\n",
       "      <td>Spain</td>\n",
       "      <td>ES</td>\n",
       "      <td></td>\n",
       "      <td></td>\n",
       "      <td></td>\n",
       "      <td>40.46</td>\n",
       "      <td>-3.75</td>\n",
       "      <td>0</td>\n",
       "      <td>confirmed</td>\n",
       "      <td>2020-01-22 00:00:00+00:00</td>\n",
       "    </tr>\n",
       "    <tr>\n",
       "      <th>1</th>\n",
       "      <td>Spain</td>\n",
       "      <td>ES</td>\n",
       "      <td></td>\n",
       "      <td></td>\n",
       "      <td></td>\n",
       "      <td>40.46</td>\n",
       "      <td>-3.75</td>\n",
       "      <td>0</td>\n",
       "      <td>confirmed</td>\n",
       "      <td>2020-01-23 00:00:00+00:00</td>\n",
       "    </tr>\n",
       "    <tr>\n",
       "      <th>2</th>\n",
       "      <td>Spain</td>\n",
       "      <td>ES</td>\n",
       "      <td></td>\n",
       "      <td></td>\n",
       "      <td></td>\n",
       "      <td>40.46</td>\n",
       "      <td>-3.75</td>\n",
       "      <td>0</td>\n",
       "      <td>confirmed</td>\n",
       "      <td>2020-01-24 00:00:00+00:00</td>\n",
       "    </tr>\n",
       "    <tr>\n",
       "      <th>3</th>\n",
       "      <td>Spain</td>\n",
       "      <td>ES</td>\n",
       "      <td></td>\n",
       "      <td></td>\n",
       "      <td></td>\n",
       "      <td>40.46</td>\n",
       "      <td>-3.75</td>\n",
       "      <td>0</td>\n",
       "      <td>confirmed</td>\n",
       "      <td>2020-01-25 00:00:00+00:00</td>\n",
       "    </tr>\n",
       "    <tr>\n",
       "      <th>4</th>\n",
       "      <td>Spain</td>\n",
       "      <td>ES</td>\n",
       "      <td></td>\n",
       "      <td></td>\n",
       "      <td></td>\n",
       "      <td>40.46</td>\n",
       "      <td>-3.75</td>\n",
       "      <td>0</td>\n",
       "      <td>confirmed</td>\n",
       "      <td>2020-01-26 00:00:00+00:00</td>\n",
       "    </tr>\n",
       "    <tr>\n",
       "      <th>...</th>\n",
       "      <td>...</td>\n",
       "      <td>...</td>\n",
       "      <td>...</td>\n",
       "      <td>...</td>\n",
       "      <td>...</td>\n",
       "      <td>...</td>\n",
       "      <td>...</td>\n",
       "      <td>...</td>\n",
       "      <td>...</td>\n",
       "      <td>...</td>\n",
       "    </tr>\n",
       "    <tr>\n",
       "      <th>814</th>\n",
       "      <td>Spain</td>\n",
       "      <td>ES</td>\n",
       "      <td></td>\n",
       "      <td></td>\n",
       "      <td></td>\n",
       "      <td>40.46</td>\n",
       "      <td>-3.75</td>\n",
       "      <td>11627487</td>\n",
       "      <td>confirmed</td>\n",
       "      <td>2022-04-15 00:00:00+00:00</td>\n",
       "    </tr>\n",
       "    <tr>\n",
       "      <th>815</th>\n",
       "      <td>Spain</td>\n",
       "      <td>ES</td>\n",
       "      <td></td>\n",
       "      <td></td>\n",
       "      <td></td>\n",
       "      <td>40.46</td>\n",
       "      <td>-3.75</td>\n",
       "      <td>11627487</td>\n",
       "      <td>confirmed</td>\n",
       "      <td>2022-04-16 00:00:00+00:00</td>\n",
       "    </tr>\n",
       "    <tr>\n",
       "      <th>816</th>\n",
       "      <td>Spain</td>\n",
       "      <td>ES</td>\n",
       "      <td></td>\n",
       "      <td></td>\n",
       "      <td></td>\n",
       "      <td>40.46</td>\n",
       "      <td>-3.75</td>\n",
       "      <td>11627487</td>\n",
       "      <td>confirmed</td>\n",
       "      <td>2022-04-17 00:00:00+00:00</td>\n",
       "    </tr>\n",
       "    <tr>\n",
       "      <th>817</th>\n",
       "      <td>Spain</td>\n",
       "      <td>ES</td>\n",
       "      <td></td>\n",
       "      <td></td>\n",
       "      <td></td>\n",
       "      <td>40.46</td>\n",
       "      <td>-3.75</td>\n",
       "      <td>11627487</td>\n",
       "      <td>confirmed</td>\n",
       "      <td>2022-04-18 00:00:00+00:00</td>\n",
       "    </tr>\n",
       "    <tr>\n",
       "      <th>818</th>\n",
       "      <td>Spain</td>\n",
       "      <td>ES</td>\n",
       "      <td></td>\n",
       "      <td></td>\n",
       "      <td></td>\n",
       "      <td>40.46</td>\n",
       "      <td>-3.75</td>\n",
       "      <td>11627487</td>\n",
       "      <td>confirmed</td>\n",
       "      <td>2022-04-19 00:00:00+00:00</td>\n",
       "    </tr>\n",
       "  </tbody>\n",
       "</table>\n",
       "<p>819 rows × 10 columns</p>\n",
       "</div>"
      ],
      "text/plain": [
       "    Country CountryCode Province City CityCode    Lat   Lon     Cases  \\\n",
       "0     Spain          ES                         40.46 -3.75         0   \n",
       "1     Spain          ES                         40.46 -3.75         0   \n",
       "2     Spain          ES                         40.46 -3.75         0   \n",
       "3     Spain          ES                         40.46 -3.75         0   \n",
       "4     Spain          ES                         40.46 -3.75         0   \n",
       "..      ...         ...      ...  ...      ...    ...   ...       ...   \n",
       "814   Spain          ES                         40.46 -3.75  11627487   \n",
       "815   Spain          ES                         40.46 -3.75  11627487   \n",
       "816   Spain          ES                         40.46 -3.75  11627487   \n",
       "817   Spain          ES                         40.46 -3.75  11627487   \n",
       "818   Spain          ES                         40.46 -3.75  11627487   \n",
       "\n",
       "        Status                      Date  \n",
       "0    confirmed 2020-01-22 00:00:00+00:00  \n",
       "1    confirmed 2020-01-23 00:00:00+00:00  \n",
       "2    confirmed 2020-01-24 00:00:00+00:00  \n",
       "3    confirmed 2020-01-25 00:00:00+00:00  \n",
       "4    confirmed 2020-01-26 00:00:00+00:00  \n",
       "..         ...                       ...  \n",
       "814  confirmed 2022-04-15 00:00:00+00:00  \n",
       "815  confirmed 2022-04-16 00:00:00+00:00  \n",
       "816  confirmed 2022-04-17 00:00:00+00:00  \n",
       "817  confirmed 2022-04-18 00:00:00+00:00  \n",
       "818  confirmed 2022-04-19 00:00:00+00:00  \n",
       "\n",
       "[819 rows x 10 columns]"
      ]
     },
     "execution_count": 11,
     "metadata": {},
     "output_type": "execute_result"
    }
   ],
   "source": [
    "url_live =  'https://api.covid19api.com/country/spain/status/confirmed/live'\n",
    "df_es = pd.read_json(url_live)\n",
    "df_es\n"
   ]
  },
  {
   "cell_type": "markdown",
   "id": "6501fdf6",
   "metadata": {},
   "source": [
    "Así, podemos ver que desde que empezó la pandemia -o más bien desde que existen datos- se han contabilizado 817 días."
   ]
  },
  {
   "cell_type": "markdown",
   "id": "2a0d32b7",
   "metadata": {},
   "source": [
    "Como es una tabla muy grande, mediante la funcion `.info` analizaremos cuál es el contenido la tabla."
   ]
  },
  {
   "cell_type": "code",
   "execution_count": 12,
   "id": "7d024c70",
   "metadata": {},
   "outputs": [
    {
     "name": "stdout",
     "output_type": "stream",
     "text": [
      "<class 'pandas.core.frame.DataFrame'>\n",
      "RangeIndex: 248 entries, 0 to 247\n",
      "Data columns (total 3 columns):\n",
      " #   Column   Non-Null Count  Dtype \n",
      "---  ------   --------------  ----- \n",
      " 0   Country  248 non-null    object\n",
      " 1   Slug     248 non-null    object\n",
      " 2   ISO2     248 non-null    object\n",
      "dtypes: object(3)\n",
      "memory usage: 5.9+ KB\n"
     ]
    }
   ],
   "source": [
    "df.info()"
   ]
  },
  {
   "cell_type": "markdown",
   "id": "f5318245",
   "metadata": {},
   "source": [
    "También podemos convertir la columna que nosotros queremos en la primera. Es decir, en el index. Así, mediante el siguiente código le decimos que nos muestre en el indice la columna fecha. "
   ]
  },
  {
   "cell_type": "code",
   "execution_count": 13,
   "id": "4f674da1",
   "metadata": {},
   "outputs": [
    {
     "data": {
      "text/html": [
       "<div>\n",
       "<style scoped>\n",
       "    .dataframe tbody tr th:only-of-type {\n",
       "        vertical-align: middle;\n",
       "    }\n",
       "\n",
       "    .dataframe tbody tr th {\n",
       "        vertical-align: top;\n",
       "    }\n",
       "\n",
       "    .dataframe thead th {\n",
       "        text-align: right;\n",
       "    }\n",
       "</style>\n",
       "<table border=\"1\" class=\"dataframe\">\n",
       "  <thead>\n",
       "    <tr style=\"text-align: right;\">\n",
       "      <th></th>\n",
       "      <th>Country</th>\n",
       "      <th>CountryCode</th>\n",
       "      <th>Province</th>\n",
       "      <th>City</th>\n",
       "      <th>CityCode</th>\n",
       "      <th>Lat</th>\n",
       "      <th>Lon</th>\n",
       "      <th>Cases</th>\n",
       "      <th>Status</th>\n",
       "    </tr>\n",
       "    <tr>\n",
       "      <th>Date</th>\n",
       "      <th></th>\n",
       "      <th></th>\n",
       "      <th></th>\n",
       "      <th></th>\n",
       "      <th></th>\n",
       "      <th></th>\n",
       "      <th></th>\n",
       "      <th></th>\n",
       "      <th></th>\n",
       "    </tr>\n",
       "  </thead>\n",
       "  <tbody>\n",
       "    <tr>\n",
       "      <th>2020-01-22 00:00:00+00:00</th>\n",
       "      <td>Spain</td>\n",
       "      <td>ES</td>\n",
       "      <td></td>\n",
       "      <td></td>\n",
       "      <td></td>\n",
       "      <td>40.46</td>\n",
       "      <td>-3.75</td>\n",
       "      <td>0</td>\n",
       "      <td>confirmed</td>\n",
       "    </tr>\n",
       "    <tr>\n",
       "      <th>2020-01-23 00:00:00+00:00</th>\n",
       "      <td>Spain</td>\n",
       "      <td>ES</td>\n",
       "      <td></td>\n",
       "      <td></td>\n",
       "      <td></td>\n",
       "      <td>40.46</td>\n",
       "      <td>-3.75</td>\n",
       "      <td>0</td>\n",
       "      <td>confirmed</td>\n",
       "    </tr>\n",
       "    <tr>\n",
       "      <th>2020-01-24 00:00:00+00:00</th>\n",
       "      <td>Spain</td>\n",
       "      <td>ES</td>\n",
       "      <td></td>\n",
       "      <td></td>\n",
       "      <td></td>\n",
       "      <td>40.46</td>\n",
       "      <td>-3.75</td>\n",
       "      <td>0</td>\n",
       "      <td>confirmed</td>\n",
       "    </tr>\n",
       "    <tr>\n",
       "      <th>2020-01-25 00:00:00+00:00</th>\n",
       "      <td>Spain</td>\n",
       "      <td>ES</td>\n",
       "      <td></td>\n",
       "      <td></td>\n",
       "      <td></td>\n",
       "      <td>40.46</td>\n",
       "      <td>-3.75</td>\n",
       "      <td>0</td>\n",
       "      <td>confirmed</td>\n",
       "    </tr>\n",
       "    <tr>\n",
       "      <th>2020-01-26 00:00:00+00:00</th>\n",
       "      <td>Spain</td>\n",
       "      <td>ES</td>\n",
       "      <td></td>\n",
       "      <td></td>\n",
       "      <td></td>\n",
       "      <td>40.46</td>\n",
       "      <td>-3.75</td>\n",
       "      <td>0</td>\n",
       "      <td>confirmed</td>\n",
       "    </tr>\n",
       "    <tr>\n",
       "      <th>...</th>\n",
       "      <td>...</td>\n",
       "      <td>...</td>\n",
       "      <td>...</td>\n",
       "      <td>...</td>\n",
       "      <td>...</td>\n",
       "      <td>...</td>\n",
       "      <td>...</td>\n",
       "      <td>...</td>\n",
       "      <td>...</td>\n",
       "    </tr>\n",
       "    <tr>\n",
       "      <th>2022-04-15 00:00:00+00:00</th>\n",
       "      <td>Spain</td>\n",
       "      <td>ES</td>\n",
       "      <td></td>\n",
       "      <td></td>\n",
       "      <td></td>\n",
       "      <td>40.46</td>\n",
       "      <td>-3.75</td>\n",
       "      <td>11627487</td>\n",
       "      <td>confirmed</td>\n",
       "    </tr>\n",
       "    <tr>\n",
       "      <th>2022-04-16 00:00:00+00:00</th>\n",
       "      <td>Spain</td>\n",
       "      <td>ES</td>\n",
       "      <td></td>\n",
       "      <td></td>\n",
       "      <td></td>\n",
       "      <td>40.46</td>\n",
       "      <td>-3.75</td>\n",
       "      <td>11627487</td>\n",
       "      <td>confirmed</td>\n",
       "    </tr>\n",
       "    <tr>\n",
       "      <th>2022-04-17 00:00:00+00:00</th>\n",
       "      <td>Spain</td>\n",
       "      <td>ES</td>\n",
       "      <td></td>\n",
       "      <td></td>\n",
       "      <td></td>\n",
       "      <td>40.46</td>\n",
       "      <td>-3.75</td>\n",
       "      <td>11627487</td>\n",
       "      <td>confirmed</td>\n",
       "    </tr>\n",
       "    <tr>\n",
       "      <th>2022-04-18 00:00:00+00:00</th>\n",
       "      <td>Spain</td>\n",
       "      <td>ES</td>\n",
       "      <td></td>\n",
       "      <td></td>\n",
       "      <td></td>\n",
       "      <td>40.46</td>\n",
       "      <td>-3.75</td>\n",
       "      <td>11627487</td>\n",
       "      <td>confirmed</td>\n",
       "    </tr>\n",
       "    <tr>\n",
       "      <th>2022-04-19 00:00:00+00:00</th>\n",
       "      <td>Spain</td>\n",
       "      <td>ES</td>\n",
       "      <td></td>\n",
       "      <td></td>\n",
       "      <td></td>\n",
       "      <td>40.46</td>\n",
       "      <td>-3.75</td>\n",
       "      <td>11627487</td>\n",
       "      <td>confirmed</td>\n",
       "    </tr>\n",
       "  </tbody>\n",
       "</table>\n",
       "<p>819 rows × 9 columns</p>\n",
       "</div>"
      ],
      "text/plain": [
       "                          Country CountryCode Province City CityCode    Lat  \\\n",
       "Date                                                                          \n",
       "2020-01-22 00:00:00+00:00   Spain          ES                         40.46   \n",
       "2020-01-23 00:00:00+00:00   Spain          ES                         40.46   \n",
       "2020-01-24 00:00:00+00:00   Spain          ES                         40.46   \n",
       "2020-01-25 00:00:00+00:00   Spain          ES                         40.46   \n",
       "2020-01-26 00:00:00+00:00   Spain          ES                         40.46   \n",
       "...                           ...         ...      ...  ...      ...    ...   \n",
       "2022-04-15 00:00:00+00:00   Spain          ES                         40.46   \n",
       "2022-04-16 00:00:00+00:00   Spain          ES                         40.46   \n",
       "2022-04-17 00:00:00+00:00   Spain          ES                         40.46   \n",
       "2022-04-18 00:00:00+00:00   Spain          ES                         40.46   \n",
       "2022-04-19 00:00:00+00:00   Spain          ES                         40.46   \n",
       "\n",
       "                            Lon     Cases     Status  \n",
       "Date                                                  \n",
       "2020-01-22 00:00:00+00:00 -3.75         0  confirmed  \n",
       "2020-01-23 00:00:00+00:00 -3.75         0  confirmed  \n",
       "2020-01-24 00:00:00+00:00 -3.75         0  confirmed  \n",
       "2020-01-25 00:00:00+00:00 -3.75         0  confirmed  \n",
       "2020-01-26 00:00:00+00:00 -3.75         0  confirmed  \n",
       "...                         ...       ...        ...  \n",
       "2022-04-15 00:00:00+00:00 -3.75  11627487  confirmed  \n",
       "2022-04-16 00:00:00+00:00 -3.75  11627487  confirmed  \n",
       "2022-04-17 00:00:00+00:00 -3.75  11627487  confirmed  \n",
       "2022-04-18 00:00:00+00:00 -3.75  11627487  confirmed  \n",
       "2022-04-19 00:00:00+00:00 -3.75  11627487  confirmed  \n",
       "\n",
       "[819 rows x 9 columns]"
      ]
     },
     "execution_count": 13,
     "metadata": {},
     "output_type": "execute_result"
    }
   ],
   "source": [
    "df_es.set_index('Date')"
   ]
  },
  {
   "cell_type": "markdown",
   "id": "b9237fb1",
   "metadata": {},
   "source": [
    "También podemos decidir que datos son los que queremos visualizar:"
   ]
  },
  {
   "cell_type": "code",
   "execution_count": 14,
   "id": "3fa67e21",
   "metadata": {},
   "outputs": [
    {
     "data": {
      "text/plain": [
       "Date\n",
       "2020-01-22 00:00:00+00:00           0\n",
       "2020-01-23 00:00:00+00:00           0\n",
       "2020-01-24 00:00:00+00:00           0\n",
       "2020-01-25 00:00:00+00:00           0\n",
       "2020-01-26 00:00:00+00:00           0\n",
       "                               ...   \n",
       "2022-04-15 00:00:00+00:00    11627487\n",
       "2022-04-16 00:00:00+00:00    11627487\n",
       "2022-04-17 00:00:00+00:00    11627487\n",
       "2022-04-18 00:00:00+00:00    11627487\n",
       "2022-04-19 00:00:00+00:00    11627487\n",
       "Name: Cases, Length: 819, dtype: int64"
      ]
     },
     "execution_count": 14,
     "metadata": {},
     "output_type": "execute_result"
    }
   ],
   "source": [
    "df_es.set_index('Date')['Cases']"
   ]
  },
  {
   "cell_type": "markdown",
   "id": "f9dd93a8",
   "metadata": {},
   "source": [
    "Seguido de los datos que queremos, añadiremos otra función. Para eso utilizaremos el `.` para separar el `dataframe`de esta función. Con `plot`conseguiremos que nos haga un gráfico con estos dos datos. "
   ]
  },
  {
   "cell_type": "code",
   "execution_count": 15,
   "id": "a349558a",
   "metadata": {},
   "outputs": [
    {
     "data": {
      "text/plain": [
       "<AxesSubplot:xlabel='Date'>"
      ]
     },
     "execution_count": 15,
     "metadata": {},
     "output_type": "execute_result"
    },
    {
     "data": {
      "image/png": "[encoded data removed]",
      "text/plain": [
       "<Figure size 432x288 with 1 Axes>"
      ]
     },
     "metadata": {
      "needs_background": "light"
     },
     "output_type": "display_data"
    }
   ],
   "source": [
    "df_es.set_index('Date')['Cases'].plot()"
   ]
  },
  {
   "cell_type": "markdown",
   "id": "10b843c3",
   "metadata": {},
   "source": [
    "También es posible añadir un título a este mismo gráfico añadiendo un parentesis y el nombre que queramos darle."
   ]
  },
  {
   "cell_type": "code",
   "execution_count": 16,
   "id": "9324efaa",
   "metadata": {},
   "outputs": [
    {
     "data": {
      "text/plain": [
       "<AxesSubplot:title={'center':'Casos de covid19 en España'}, xlabel='Date'>"
      ]
     },
     "execution_count": 16,
     "metadata": {},
     "output_type": "execute_result"
    },
    {
     "data": {
      "image/png": "[encoded data removed]",
      "text/plain": [
       "<Figure size 432x288 with 1 Axes>"
      ]
     },
     "metadata": {
      "needs_background": "light"
     },
     "output_type": "display_data"
    }
   ],
   "source": [
    "df_es.set_index('Date')['Cases'].plot(title=\"Casos de covid19 en España\")"
   ]
  },
  {
   "cell_type": "markdown",
   "id": "43f44358",
   "metadata": {},
   "source": [
    "A continuación, sacamos el tiempo real en Colombia de la misma manera que hemos obtenido los datos de España."
   ]
  },
  {
   "cell_type": "markdown",
   "id": "d0bee0b8",
   "metadata": {},
   "source": [
    "## Tiempo real colombia"
   ]
  },
  {
   "cell_type": "code",
   "execution_count": 17,
   "id": "9a81f0ba",
   "metadata": {},
   "outputs": [
    {
     "data": {
      "text/plain": [
       "<AxesSubplot:title={'center':'Casos de covid19 en Colombia'}, xlabel='Date'>"
      ]
     },
     "execution_count": 17,
     "metadata": {},
     "output_type": "execute_result"
    },
    {
     "data": {
      "image/png": "[encoded data removed]",
      "text/plain": [
       "<Figure size 432x288 with 1 Axes>"
      ]
     },
     "metadata": {
      "needs_background": "light"
     },
     "output_type": "display_data"
    }
   ],
   "source": [
    "url_co =  'https://api.covid19api.com/country/colombia/status/confirmed/live'\n",
    "df_co = pd.read_json(url_co)\n",
    "df_co.set_index('Date')['Cases'].plot(title=\"Casos de covid19 en Colombia\")"
   ]
  },
  {
   "cell_type": "markdown",
   "id": "eca6e3cb",
   "metadata": {},
   "source": [
    "## Comparativa España-Colombia"
   ]
  },
  {
   "cell_type": "markdown",
   "id": "cb0d81f7",
   "metadata": {},
   "source": [
    "También podemos realizar la comparativa entre ambos países."
   ]
  },
  {
   "cell_type": "code",
   "execution_count": 18,
   "id": "6d36468a",
   "metadata": {},
   "outputs": [],
   "source": [
    "casos_es = df_es.set_index('Date')['Cases']\n",
    "casos_co = df_co.set_index('Date')['Cases'] "
   ]
  },
  {
   "cell_type": "code",
   "execution_count": 19,
   "id": "2d66cb43",
   "metadata": {},
   "outputs": [
    {
     "data": {
      "text/plain": [
       "Date\n",
       "2020-01-22 00:00:00+00:00           0\n",
       "2020-01-23 00:00:00+00:00           0\n",
       "2020-01-24 00:00:00+00:00           0\n",
       "2020-01-25 00:00:00+00:00           0\n",
       "2020-01-26 00:00:00+00:00           0\n",
       "                               ...   \n",
       "2022-04-15 00:00:00+00:00    11627487\n",
       "2022-04-16 00:00:00+00:00    11627487\n",
       "2022-04-17 00:00:00+00:00    11627487\n",
       "2022-04-18 00:00:00+00:00    11627487\n",
       "2022-04-19 00:00:00+00:00    11627487\n",
       "Name: Cases, Length: 819, dtype: int64"
      ]
     },
     "execution_count": 19,
     "metadata": {},
     "output_type": "execute_result"
    }
   ],
   "source": [
    "casos_es"
   ]
  },
  {
   "cell_type": "markdown",
   "id": "58d42cab",
   "metadata": {},
   "source": [
    "Para mostrar los datos de estos países en una tabla los concatenamos. Índicando que el eje es uno, para que los datos se muestren a la derecha."
   ]
  },
  {
   "cell_type": "code",
   "execution_count": 20,
   "id": "0bf7a0d9",
   "metadata": {},
   "outputs": [
    {
     "data": {
      "text/html": [
       "<div>\n",
       "<style scoped>\n",
       "    .dataframe tbody tr th:only-of-type {\n",
       "        vertical-align: middle;\n",
       "    }\n",
       "\n",
       "    .dataframe tbody tr th {\n",
       "        vertical-align: top;\n",
       "    }\n",
       "\n",
       "    .dataframe thead th {\n",
       "        text-align: right;\n",
       "    }\n",
       "</style>\n",
       "<table border=\"1\" class=\"dataframe\">\n",
       "  <thead>\n",
       "    <tr style=\"text-align: right;\">\n",
       "      <th></th>\n",
       "      <th>Cases</th>\n",
       "      <th>Cases</th>\n",
       "    </tr>\n",
       "    <tr>\n",
       "      <th>Date</th>\n",
       "      <th></th>\n",
       "      <th></th>\n",
       "    </tr>\n",
       "  </thead>\n",
       "  <tbody>\n",
       "    <tr>\n",
       "      <th>2020-01-22 00:00:00+00:00</th>\n",
       "      <td>0</td>\n",
       "      <td>0</td>\n",
       "    </tr>\n",
       "    <tr>\n",
       "      <th>2020-01-23 00:00:00+00:00</th>\n",
       "      <td>0</td>\n",
       "      <td>0</td>\n",
       "    </tr>\n",
       "    <tr>\n",
       "      <th>2020-01-24 00:00:00+00:00</th>\n",
       "      <td>0</td>\n",
       "      <td>0</td>\n",
       "    </tr>\n",
       "    <tr>\n",
       "      <th>2020-01-25 00:00:00+00:00</th>\n",
       "      <td>0</td>\n",
       "      <td>0</td>\n",
       "    </tr>\n",
       "    <tr>\n",
       "      <th>2020-01-26 00:00:00+00:00</th>\n",
       "      <td>0</td>\n",
       "      <td>0</td>\n",
       "    </tr>\n",
       "    <tr>\n",
       "      <th>...</th>\n",
       "      <td>...</td>\n",
       "      <td>...</td>\n",
       "    </tr>\n",
       "    <tr>\n",
       "      <th>2022-04-15 00:00:00+00:00</th>\n",
       "      <td>11627487</td>\n",
       "      <td>6089381</td>\n",
       "    </tr>\n",
       "    <tr>\n",
       "      <th>2022-04-16 00:00:00+00:00</th>\n",
       "      <td>11627487</td>\n",
       "      <td>6089540</td>\n",
       "    </tr>\n",
       "    <tr>\n",
       "      <th>2022-04-17 00:00:00+00:00</th>\n",
       "      <td>11627487</td>\n",
       "      <td>6089662</td>\n",
       "    </tr>\n",
       "    <tr>\n",
       "      <th>2022-04-18 00:00:00+00:00</th>\n",
       "      <td>11627487</td>\n",
       "      <td>6089791</td>\n",
       "    </tr>\n",
       "    <tr>\n",
       "      <th>2022-04-19 00:00:00+00:00</th>\n",
       "      <td>11627487</td>\n",
       "      <td>6089998</td>\n",
       "    </tr>\n",
       "  </tbody>\n",
       "</table>\n",
       "<p>819 rows × 2 columns</p>\n",
       "</div>"
      ],
      "text/plain": [
       "                              Cases    Cases\n",
       "Date                                        \n",
       "2020-01-22 00:00:00+00:00         0        0\n",
       "2020-01-23 00:00:00+00:00         0        0\n",
       "2020-01-24 00:00:00+00:00         0        0\n",
       "2020-01-25 00:00:00+00:00         0        0\n",
       "2020-01-26 00:00:00+00:00         0        0\n",
       "...                             ...      ...\n",
       "2022-04-15 00:00:00+00:00  11627487  6089381\n",
       "2022-04-16 00:00:00+00:00  11627487  6089540\n",
       "2022-04-17 00:00:00+00:00  11627487  6089662\n",
       "2022-04-18 00:00:00+00:00  11627487  6089791\n",
       "2022-04-19 00:00:00+00:00  11627487  6089998\n",
       "\n",
       "[819 rows x 2 columns]"
      ]
     },
     "execution_count": 20,
     "metadata": {},
     "output_type": "execute_result"
    }
   ],
   "source": [
    "pd.concat([casos_es,casos_co],axis=1)"
   ]
  },
  {
   "cell_type": "markdown",
   "id": "a68309f6",
   "metadata": {},
   "source": [
    "Para guardar esta concatenación creamos un objeto, en este caso con el nombre `vs`. "
   ]
  },
  {
   "cell_type": "code",
   "execution_count": 21,
   "id": "e739b173",
   "metadata": {},
   "outputs": [
    {
     "data": {
      "text/html": [
       "<div>\n",
       "<style scoped>\n",
       "    .dataframe tbody tr th:only-of-type {\n",
       "        vertical-align: middle;\n",
       "    }\n",
       "\n",
       "    .dataframe tbody tr th {\n",
       "        vertical-align: top;\n",
       "    }\n",
       "\n",
       "    .dataframe thead th {\n",
       "        text-align: right;\n",
       "    }\n",
       "</style>\n",
       "<table border=\"1\" class=\"dataframe\">\n",
       "  <thead>\n",
       "    <tr style=\"text-align: right;\">\n",
       "      <th></th>\n",
       "      <th>Cases</th>\n",
       "      <th>Cases</th>\n",
       "    </tr>\n",
       "    <tr>\n",
       "      <th>Date</th>\n",
       "      <th></th>\n",
       "      <th></th>\n",
       "    </tr>\n",
       "  </thead>\n",
       "  <tbody>\n",
       "    <tr>\n",
       "      <th>2020-01-22 00:00:00+00:00</th>\n",
       "      <td>0</td>\n",
       "      <td>0</td>\n",
       "    </tr>\n",
       "    <tr>\n",
       "      <th>2020-01-23 00:00:00+00:00</th>\n",
       "      <td>0</td>\n",
       "      <td>0</td>\n",
       "    </tr>\n",
       "    <tr>\n",
       "      <th>2020-01-24 00:00:00+00:00</th>\n",
       "      <td>0</td>\n",
       "      <td>0</td>\n",
       "    </tr>\n",
       "    <tr>\n",
       "      <th>2020-01-25 00:00:00+00:00</th>\n",
       "      <td>0</td>\n",
       "      <td>0</td>\n",
       "    </tr>\n",
       "    <tr>\n",
       "      <th>2020-01-26 00:00:00+00:00</th>\n",
       "      <td>0</td>\n",
       "      <td>0</td>\n",
       "    </tr>\n",
       "    <tr>\n",
       "      <th>...</th>\n",
       "      <td>...</td>\n",
       "      <td>...</td>\n",
       "    </tr>\n",
       "    <tr>\n",
       "      <th>2022-04-15 00:00:00+00:00</th>\n",
       "      <td>11627487</td>\n",
       "      <td>6089381</td>\n",
       "    </tr>\n",
       "    <tr>\n",
       "      <th>2022-04-16 00:00:00+00:00</th>\n",
       "      <td>11627487</td>\n",
       "      <td>6089540</td>\n",
       "    </tr>\n",
       "    <tr>\n",
       "      <th>2022-04-17 00:00:00+00:00</th>\n",
       "      <td>11627487</td>\n",
       "      <td>6089662</td>\n",
       "    </tr>\n",
       "    <tr>\n",
       "      <th>2022-04-18 00:00:00+00:00</th>\n",
       "      <td>11627487</td>\n",
       "      <td>6089791</td>\n",
       "    </tr>\n",
       "    <tr>\n",
       "      <th>2022-04-19 00:00:00+00:00</th>\n",
       "      <td>11627487</td>\n",
       "      <td>6089998</td>\n",
       "    </tr>\n",
       "  </tbody>\n",
       "</table>\n",
       "<p>819 rows × 2 columns</p>\n",
       "</div>"
      ],
      "text/plain": [
       "                              Cases    Cases\n",
       "Date                                        \n",
       "2020-01-22 00:00:00+00:00         0        0\n",
       "2020-01-23 00:00:00+00:00         0        0\n",
       "2020-01-24 00:00:00+00:00         0        0\n",
       "2020-01-25 00:00:00+00:00         0        0\n",
       "2020-01-26 00:00:00+00:00         0        0\n",
       "...                             ...      ...\n",
       "2022-04-15 00:00:00+00:00  11627487  6089381\n",
       "2022-04-16 00:00:00+00:00  11627487  6089540\n",
       "2022-04-17 00:00:00+00:00  11627487  6089662\n",
       "2022-04-18 00:00:00+00:00  11627487  6089791\n",
       "2022-04-19 00:00:00+00:00  11627487  6089998\n",
       "\n",
       "[819 rows x 2 columns]"
      ]
     },
     "execution_count": 21,
     "metadata": {},
     "output_type": "execute_result"
    }
   ],
   "source": [
    "vs = pd.concat([casos_es,casos_co],axis=1)\n",
    "vs"
   ]
  },
  {
   "cell_type": "markdown",
   "id": "9166e768",
   "metadata": {},
   "source": [
    "Para que la tabla (y más adelante el gráfico) se entienda bien, conviene cambiar el nombre de las columnas y añadir el dato que corresponde a cada una de ellas. He seguido los pasos del profesor, pero no se añade corretamente y no sé cuál es el motivo."
   ]
  },
  {
   "cell_type": "code",
   "execution_count": 22,
   "id": "f9381672",
   "metadata": {},
   "outputs": [
    {
     "name": "stderr",
     "output_type": "stream",
     "text": [
      "/var/folders/cb/t5msztk94_g02dn1l2fmwpyw0000gn/T/ipykernel_31206/3322609716.py:1: UserWarning: Pandas doesn't allow columns to be created via a new attribute name - see https://pandas.pydata.org/pandas-docs/stable/indexing.html#attribute-access\n",
      "  vs.colums = ['España','Colombia']\n"
     ]
    }
   ],
   "source": [
    "vs.colums = ['España','Colombia']"
   ]
  },
  {
   "cell_type": "code",
   "execution_count": 23,
   "id": "1a609c6c",
   "metadata": {},
   "outputs": [
    {
     "data": {
      "text/html": [
       "<div>\n",
       "<style scoped>\n",
       "    .dataframe tbody tr th:only-of-type {\n",
       "        vertical-align: middle;\n",
       "    }\n",
       "\n",
       "    .dataframe tbody tr th {\n",
       "        vertical-align: top;\n",
       "    }\n",
       "\n",
       "    .dataframe thead th {\n",
       "        text-align: right;\n",
       "    }\n",
       "</style>\n",
       "<table border=\"1\" class=\"dataframe\">\n",
       "  <thead>\n",
       "    <tr style=\"text-align: right;\">\n",
       "      <th></th>\n",
       "      <th>Cases</th>\n",
       "      <th>Cases</th>\n",
       "    </tr>\n",
       "    <tr>\n",
       "      <th>Date</th>\n",
       "      <th></th>\n",
       "      <th></th>\n",
       "    </tr>\n",
       "  </thead>\n",
       "  <tbody>\n",
       "    <tr>\n",
       "      <th>2020-01-22 00:00:00+00:00</th>\n",
       "      <td>0</td>\n",
       "      <td>0</td>\n",
       "    </tr>\n",
       "    <tr>\n",
       "      <th>2020-01-23 00:00:00+00:00</th>\n",
       "      <td>0</td>\n",
       "      <td>0</td>\n",
       "    </tr>\n",
       "    <tr>\n",
       "      <th>2020-01-24 00:00:00+00:00</th>\n",
       "      <td>0</td>\n",
       "      <td>0</td>\n",
       "    </tr>\n",
       "    <tr>\n",
       "      <th>2020-01-25 00:00:00+00:00</th>\n",
       "      <td>0</td>\n",
       "      <td>0</td>\n",
       "    </tr>\n",
       "    <tr>\n",
       "      <th>2020-01-26 00:00:00+00:00</th>\n",
       "      <td>0</td>\n",
       "      <td>0</td>\n",
       "    </tr>\n",
       "    <tr>\n",
       "      <th>...</th>\n",
       "      <td>...</td>\n",
       "      <td>...</td>\n",
       "    </tr>\n",
       "    <tr>\n",
       "      <th>2022-04-15 00:00:00+00:00</th>\n",
       "      <td>11627487</td>\n",
       "      <td>6089381</td>\n",
       "    </tr>\n",
       "    <tr>\n",
       "      <th>2022-04-16 00:00:00+00:00</th>\n",
       "      <td>11627487</td>\n",
       "      <td>6089540</td>\n",
       "    </tr>\n",
       "    <tr>\n",
       "      <th>2022-04-17 00:00:00+00:00</th>\n",
       "      <td>11627487</td>\n",
       "      <td>6089662</td>\n",
       "    </tr>\n",
       "    <tr>\n",
       "      <th>2022-04-18 00:00:00+00:00</th>\n",
       "      <td>11627487</td>\n",
       "      <td>6089791</td>\n",
       "    </tr>\n",
       "    <tr>\n",
       "      <th>2022-04-19 00:00:00+00:00</th>\n",
       "      <td>11627487</td>\n",
       "      <td>6089998</td>\n",
       "    </tr>\n",
       "  </tbody>\n",
       "</table>\n",
       "<p>819 rows × 2 columns</p>\n",
       "</div>"
      ],
      "text/plain": [
       "                              Cases    Cases\n",
       "Date                                        \n",
       "2020-01-22 00:00:00+00:00         0        0\n",
       "2020-01-23 00:00:00+00:00         0        0\n",
       "2020-01-24 00:00:00+00:00         0        0\n",
       "2020-01-25 00:00:00+00:00         0        0\n",
       "2020-01-26 00:00:00+00:00         0        0\n",
       "...                             ...      ...\n",
       "2022-04-15 00:00:00+00:00  11627487  6089381\n",
       "2022-04-16 00:00:00+00:00  11627487  6089540\n",
       "2022-04-17 00:00:00+00:00  11627487  6089662\n",
       "2022-04-18 00:00:00+00:00  11627487  6089791\n",
       "2022-04-19 00:00:00+00:00  11627487  6089998\n",
       "\n",
       "[819 rows x 2 columns]"
      ]
     },
     "execution_count": 23,
     "metadata": {},
     "output_type": "execute_result"
    }
   ],
   "source": [
    "vs"
   ]
  },
  {
   "cell_type": "markdown",
   "id": "70be4c3f",
   "metadata": {},
   "source": [
    "Se puede realizar una gráfica con la comparación de los dos países. Es posible añadir el area con el complemento `kind`"
   ]
  },
  {
   "cell_type": "code",
   "execution_count": 24,
   "id": "c1144322",
   "metadata": {},
   "outputs": [
    {
     "data": {
      "text/plain": [
       "<AxesSubplot:title={'center':'España VS Colombia'}, xlabel='Date'>"
      ]
     },
     "execution_count": 24,
     "metadata": {},
     "output_type": "execute_result"
    },
    {
     "data": {
      "image/png": "[encoded data removed]",
      "text/plain": [
       "<Figure size 432x288 with 1 Axes>"
      ]
     },
     "metadata": {
      "needs_background": "light"
     },
     "output_type": "display_data"
    }
   ],
   "source": [
    "vs.plot(title=\"España VS Colombia\",kind= 'area')"
   ]
  },
  {
   "cell_type": "markdown",
   "id": "4094a1e4",
   "metadata": {},
   "source": [
    "## Comparativa de tres países "
   ]
  },
  {
   "cell_type": "markdown",
   "id": "dfdb2a11",
   "metadata": {},
   "source": [
    "Ahora, realizaremos la comparativa de tres países."
   ]
  },
  {
   "cell_type": "code",
   "execution_count": 25,
   "id": "f797c78e",
   "metadata": {},
   "outputs": [
    {
     "data": {
      "text/plain": [
       "<AxesSubplot:title={'center':'Comparación casos en España, Colombia y Japón'}, xlabel='Date'>"
      ]
     },
     "execution_count": 25,
     "metadata": {},
     "output_type": "execute_result"
    },
    {
     "data": {
      "image/png": "[encoded data removed]",
      "text/plain": [
       "<Figure size 432x288 with 1 Axes>"
      ]
     },
     "metadata": {
      "needs_background": "light"
     },
     "output_type": "display_data"
    }
   ],
   "source": [
    "url_jp =  'https://api.covid19api.com/country/japan/status/confirmed/live'\n",
    "df_jp = pd.read_json(url_jp)\n",
    "casos_jp = df_jp.set_index('Date')['Cases']\n",
    "vs3 = pd.concat([casos_es,casos_co,casos_jp],axis=1)\n",
    "\n",
    "vs3.plot(title=\"Comparación casos en España, Colombia y Japón\",kind= 'area')\n"
   ]
  },
  {
   "cell_type": "markdown",
   "id": "175d4741",
   "metadata": {},
   "source": [
    "La gráfica que estamos analizando muestra la evolución de los casos covid registrados en **España** (azul), **Colombia** (naranja) y **Japón** (verde). Tal y como se aprecia en la imagen, el país que **más casos** a registrado a sido **Japón**. Esto no nos sorprende, ya que este territorio, en cuanto a habitantes se refiere, supera con creces a España y a Colombia. Según los datos que ofrece The World Bank Japón contaba con 125,8 millones de habitantes en 2020; Japón con casi 51 millones y España algo mas de 47 millones. Por lo tanto, la gráfica muestra una situación que refleja perfectamente la realidad. \n",
    "\n",
    "Pese a la diferencia de habitantes, podemos deducir que en **Colombia** se han registrado **muchos más casos** de coronavirus **que en España**, ya que teniendo en cuenta que el numero de habitantes es muy parecido, el primero supera considerablemente al segundo. "
   ]
  },
  {
   "cell_type": "markdown",
   "id": "daa678a7",
   "metadata": {},
   "source": [
    "## Exportar datos"
   ]
  },
  {
   "cell_type": "code",
   "execution_count": 30,
   "id": "f21c027d",
   "metadata": {},
   "outputs": [],
   "source": [
    "vs3.to_csv('vs3.csv')"
   ]
  },
  {
   "cell_type": "code",
   "execution_count": 33,
   "id": "74438a4c",
   "metadata": {},
   "outputs": [
    {
     "data": {
      "image/png": "[encoded data removed]",
      "text/plain": [
       "<Figure size 432x288 with 1 Axes>"
      ]
     },
     "metadata": {
      "needs_background": "light"
     },
     "output_type": "display_data"
    }
   ],
   "source": [
    "grafico = vs3.plot()\n",
    "fig = grafico.get_figure()\n",
    "fig.savefig('vs3.png')"
   ]
  },
  {
   "cell_type": "code",
   "execution_count": null,
   "id": "682c41ff",
   "metadata": {},
   "outputs": [],
   "source": []
  }
 ],
 "metadata": {
  "kernelspec": {
   "display_name": "Python 3 (ipykernel)",
   "language": "python",
   "name": "python3"
  },
  "language_info": {
   "codemirror_mode": {
    "name": "ipython",
    "version": 3
   },
   "file_extension": ".py",
   "mimetype": "text/x-python",
   "name": "python",
   "nbconvert_exporter": "python",
   "pygments_lexer": "ipython3",
   "version": "3.9.7"
  }
 },
 "nbformat": 4,
 "nbformat_minor": 5
}
